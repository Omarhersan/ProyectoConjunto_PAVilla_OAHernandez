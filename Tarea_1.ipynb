{
 "cells": [
  {
   "cell_type": "markdown",
   "metadata": {},
   "source": [
    "<img style=\"float: left; margin: 30px 15px 15px 15px;\" src=\"https://encrypted-tbn0.gstatic.com/images?q=tbn:ANd9GcTFzQj91sOlkeDFkg5HDbjtR4QJYmLXkfMNig&usqp=CAU\"  height=\"500\" />\n",
    "\n",
    "    \n",
    "    \n",
    "### <font color='navy'> Modelos no lineales para pronósticos. \n",
    "\n",
    "**Nombres:** Paulo Adrián Villa Domínguez.\n",
    "    \n",
    "             Omar Antonio Hernandez Sanchez.\n",
    "\n",
    "**Fecha:** 31 de enero del 2023.\n",
    "\n",
    "**Expediente** : 733773 y XXX.\n",
    "    \n",
    "**Profesor:** Oscar David Jaramillo Zuluaga.\n",
    "    \n",
    "**Link Github**: https://github.com/PauloVilla/ProyectoConjunto_PAVilla_OAHernandez\n",
    "\n",
    "# Tarea 1: Clase 2"
   ]
  },
  {
   "cell_type": "markdown",
   "metadata": {},
   "source": [
    "## Enunciado de tarea (Transcibirlo)\n",
    "\n",
    "Realizar una presentación describiendo sus expectativas del curso y la transcipción de la Figura 1 y Figura 2 respectivamente, haciendo uso de la sintaxis Markdown. Recuerden definir unas celdas donde cada usuario modificará el cuaderno de python para evitar futuros conflictos."
   ]
  },
  {
   "cell_type": "markdown",
   "metadata": {},
   "source": [
    "## Paso 5 Expectativas del curso"
   ]
  },
  {
   "cell_type": "markdown",
   "metadata": {},
   "source": [
    "### Paulo\n",
    "\n",
    "Para este curso espero recuperar conocimientos de series de tiempo y conceptos, además ampliar estos conocimientos, también poder realizar redes neuronales para series de tiempo."
   ]
  },
  {
   "cell_type": "markdown",
   "metadata": {},
   "source": [
    "### Omar\n",
    "\n",
    ".\n",
    ".\n",
    ".\n",
    "."
   ]
  },
  {
   "cell_type": "markdown",
   "metadata": {},
   "source": [
    "# Código de solución estudiante 1"
   ]
  },
  {
   "cell_type": "markdown",
   "metadata": {},
   "source": [
    "| $i$ | $x$  | $f(x)$ |\n",
    "| -- :|-----:| ------:|\n",
    "| 0   | -1   | 0.3678 |\n",
    "| <font color= red > 1 </font>   | <font color= red >-0.5</font> | <font color= red >0.7788</font>  |\n",
    "| <font color= blue > 2 </font>  | <font color= blue > 2 </font> | <font color= blue > 1 </font>    |\n",
    "| <font color= red > 3 </font>   | <font color= red > 0.5 </font>| <font color= red > 0.7788 </font>|\n",
    "| 4   | 1    | 0.3678 |\n",
    "\n",
    "<center>Cuadro 1: Tabla de valores de $f(x)$<\\center>\n",
    "  \n",
    "    \n",
    "$$\n",
    "\\int_{-1}^{1}e^{-x^2}dx\\approx\\frac{0,5}{3}[f(-1)+f(1)+4(\\color{red}{f(-0,5)+f(0,5)})+2\\color{blue}{f(0)}]\\\\\n",
    "\\approx\n",
    "$$\n",
    "\n",
    "\n",
    "<center>A modo de verificación, se calculará por software, el valor del área para $n=100$, un valor mucho más elevado al que se utilizó anteriormente. Si lo calculado previamente es correcto, se esperaría que sea próximo al valor presentado a continuación para ser una buena aproximación.<\\center\n",
    "\n",
    "$$\n",
    "\\int_{-1}^{1}e^{-x^2}dx\\approx1,4936\n",
    "$$"
   ]
  },
  {
   "cell_type": "markdown",
   "metadata": {},
   "source": [
    "# Código de solución estudiante 2\n",
    ".\n",
    ".\n",
    ".\n",
    ".\n"
   ]
  }
 ],
 "metadata": {
  "kernelspec": {
   "display_name": "Python 3",
   "language": "python",
   "name": "python3"
  },
  "language_info": {
   "codemirror_mode": {
    "name": "ipython",
    "version": 3
   },
   "file_extension": ".py",
   "mimetype": "text/x-python",
   "name": "python",
   "nbconvert_exporter": "python",
   "pygments_lexer": "ipython3",
   "version": "3.8.8"
  }
 },
 "nbformat": 4,
 "nbformat_minor": 2
}
